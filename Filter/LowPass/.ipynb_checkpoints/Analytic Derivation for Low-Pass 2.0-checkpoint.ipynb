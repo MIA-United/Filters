{
 "cells": [
  {
   "cell_type": "code",
   "execution_count": 3,
   "id": "4332923b",
   "metadata": {},
   "outputs": [],
   "source": [
    "import numpy as np"
   ]
  },
  {
   "cell_type": "markdown",
   "id": "b97efa53",
   "metadata": {},
   "source": [
    "## First order low-pass filter\n",
    "\n",
    "### Continuous transfer function\n",
    "The low-pass filter transfer function is\n",
    "$$H(s) = \\frac{\\omega_0}{s + \\omega_0}$$\n",
    "\n",
    "### Discrete transfer function\n",
    "Computing the discrete transfer function using Tustin's method (bilinear transform), set $s = \\frac{2}{\\Delta t} \\left( \\frac{1-z^{-1}}{1+z^{-1}} \\right)$, so\n",
    "\\begin{align*} \n",
    "H(z) &= \\frac{\\omega_0}{\\frac{2}{\\Delta t} \\frac{1-z^{-1}}{1+z^{-1}}  + \\omega_0} \\\\\n",
    "     &= \\frac{ \\Delta t \\omega_0 + ( \\Delta t \\omega_0 ) z^{-1} }{ (\\Delta t \\omega_0 + 2) + (\\Delta t \\omega_0 - 2) z^{-1} }\n",
    " \\end{align*}\n",
    "\n",
    "\n",
    "We want to find the filter coefficients for the discrete update:\n",
    "$$y[n] = a_1 y[n-1] + a_2 y[n-2] + ... + b_0 x[n] + b_1 x[n-1] + ...$$\n",
    "\n",
    "The coefficients can be taken directly from the discrete transfer function of the filter in the form:\n",
    "$$H(z) = \\frac{b_0 + b_1 z^{-1} + b_2 z^{-2} + \\ldots}{1 - a_1 z^{-1} - a_2 z^{-2} + \\ldots}$$\n",
    "\n",
    "Setting $\\alpha = \\omega_0 \\Delta t$, the transfer function is\n",
    "\\begin{align*} \n",
    "H(z) &= \\frac{ \\alpha+ \\alpha z^{-1} }{ (\\alpha + 2) + (\\alpha - 2) z^{-1} } \\\\\n",
    "     &= \\frac{ \\frac{\\alpha}{\\alpha+2} + \\frac{\\alpha}{\\alpha + 2} z^{-1} }{ 1 + \\frac{\\alpha - 2}{\\alpha + 2} z^{-1} }\n",
    " \\end{align*}\n",
    "\n",
    "\n",
    "$$ a_1 = - \\frac{\\alpha - 2}{\\alpha + 2}\\quad  \\text{and} \\quad b_0 = b_1 = \\frac{\\alpha}{\\alpha + 2}   $$\n",
    "\n",
    "### Arduino code\n",
    "On the arduino code, we compute the coefficients as\n",
    "\n",
    "<pre>\n",
    "float alpha = omega0*dt;\n",
    "a[0] = -(alpha - 2.0)/(alpha+2.0);\n",
    "b[0] = alpha/(alpha+2.0);\n",
    "b[1] = alpha/(alpha+2.0);        \n",
    "</pre>"
   ]
  },
  {
   "cell_type": "code",
   "execution_count": 12,
   "id": "af26acf5",
   "metadata": {},
   "outputs": [
    {
     "name": "stdout",
     "output_type": "stream",
     "text": [
      "[0.015465039003346996, 0.015465039003346996]\n",
      "[0.9690699219933061]\n"
     ]
    }
   ],
   "source": [
    "# Example coefficients for testing\n",
    "dt = 1/1.0e3;\n",
    "omega0 = 5*2*np.pi;\n",
    "alpha = omega0*dt;\n",
    "a = [0];\n",
    "b = [0,0];\n",
    "a[0] = -(alpha - 2.0)/(alpha+2.0);\n",
    "b[0] = alpha/(alpha+2.0);\n",
    "b[1] = alpha/(alpha+2.0); \n",
    "\n",
    "print(b)\n",
    "print(a)"
   ]
  },
  {
   "cell_type": "markdown",
   "id": "e404b4a6",
   "metadata": {},
   "source": [
    "<hr>"
   ]
  },
  {
   "cell_type": "markdown",
   "id": "00d538f3",
   "metadata": {},
   "source": [
    "## Second order low-pass Butterworth filter\n",
    "\n",
    "### Continuous transfer function\n",
    "\n",
    "The $n^{\\text{th}}$ Butterworth low-pass filter transfer function with $\\omega_c = 1$ can be written as (see https://en.wikipedia.org/wiki/Butterworth_filter)\n",
    "$$H(s) = \\frac{1}{\\sum_0^{n} \\beta_k s^k}$$\n",
    "where $n$ is the order of the filter. The coefficients are given by the recursion formula:\n",
    "$$\\beta_{k+1} = \\frac{\\cos( k \\gamma )}{\\sin((k+1)\\gamma)} \\beta_k$$\n",
    "with $\\beta_0 = 1$ and $\\gamma = \\frac{\\pi}{2n}$.\n",
    "\n",
    "The $n^{\\text{th}}$ order Butterworth polynomial with a cutoff frequency $\\omega_c$ can be written as\n",
    "$$B_n(s) = \\sum_{k=0}^n c_k s^k$$ \n",
    "with $c_k = \\frac{\\beta_k}{{\\omega_c}^k}$\n",
    "\n",
    "This implies that a second order filter is:\n",
    "$$H(s) = \\frac{1}{ c_0 + c_1 s + c_2 s^2}$$ \n",
    "with $c_k = \\frac{\\beta_k}{{\\omega_c}^k}$. Using the recursion formula with $n = 2$, the Butterworth coefficients are:\n",
    "$$\\beta_0 = 1 \\qquad \\beta_1 = \\sqrt{2} \\qquad \\beta_2 =  1$$\n",
    "\n",
    "### Discrete transfer function\n",
    "\n",
    "Computing the discrete transfer function using Tustin's method (bilinear transform), set $s = \\frac{2}{\\Delta t} \\left( \\frac{1-z^{-1}}{1+z^{-1}} \\right)$, so (with $\\alpha = \\omega_c \\Delta t$)\n",
    "\n",
    "\\begin{align*} \n",
    "H(z) &=\\frac{1}{ c_0 + c_1 \\left[ \\frac{2}{\\Delta t} \\left( \\frac{1-z^{-1}}{1+z^{-1}} \\right) \\right] + c_2 \\left[ \\frac{2}{\\Delta t} \\left( \\frac{1-z^{-1}}{1+z^{-1}} \\right) \\right]^2} \\\\\n",
    "     &=\\frac{1}{ \\beta_0 + 2 \\beta_1 \\frac{1}{\\omega_c \\Delta t} \\left( \\frac{1-z^{-1}}{1+z^{-1}} \\right)+ 4 \\beta_2 \\frac{1}{\\omega_c^2 \\Delta t^2} \\left( \\frac{1-z^{-1}}{1+z^{-1}} \\right)^2} \\\\\n",
    "     &=\\frac{1}{ \\beta_0 + 2 \\beta_1 \\frac{1}{\\alpha} \\left( \\frac{1-z^{-1}}{1+z^{-1}} \\right)+ 4 \\beta_2 \\frac{1}{\\alpha^2} \\left( \\frac{1-z^{-1}}{1+z^{-1}} \\right)^2} \\\\  \n",
    "     &=\\frac{\\alpha^2 + 2 \\alpha^2 z^{-1} + \\alpha^2 z^{-2}}{ (\\alpha^2 \\beta_0 + 2 \\alpha \\beta_1 + 4 \\beta_2) + (2 \\alpha^2 \\beta_0 - 8 \\beta_2) z^{-1} + (\\beta_0 \\alpha^2 - 2 \\beta_1 \\alpha + 4 \\beta_2) z^{-2}} \n",
    " \\end{align*}\n",
    "Setting $D = \\alpha^2 \\beta_0 + 2 \\alpha \\beta_1 + 4 \\beta_2$, this is\n",
    "\n",
    "$$ H(z) =\\frac{ (\\alpha^2/D) + (2 \\alpha^2/D) z^{-1} + (\\alpha^2/D) z^{-2}}{ 1 + [(2 \\alpha^2 \\beta_0 - 8 \\beta_2)/D] z^{-1} + [(\\beta_0 \\alpha^2 - 2 \\beta_1 \\alpha + 4 \\beta_2)/D] z^{-2}}$$\n",
    "\n",
    "\n",
    "We want to find the filter coefficients for the discrete update:\n",
    "$$y[n] = a_1 y[n-1] +a_2 y[n-2] + ... + b_0 x[n] + b_1 x[n-1] + ...$$\n",
    "\n",
    "The coefficients can be taken directly from the discrete transfer function of the filter in the form:\n",
    "$$H(z) = \\frac{b_0 + b_1 z^{-1} + b_2 z^{-2} + \\ldots}{1 - a_1 z^{-1} - a_2 z^{-2} + \\ldots}$$\n",
    "\n",
    "So the discrete update coefficients are\n",
    "\n",
    "$$ b_0 = \\alpha^2/D \\quad b_1 = 2 \\alpha^2/D \\quad b_2 = \\alpha^2/D $$\n",
    "\n",
    "$$ a_1 = - (2 \\alpha^2 \\beta_0 - 8 \\beta_2)/D \\quad a_2 = -(\\beta_0 \\alpha^2 - 2 \\beta_1 \\alpha + 4 \\beta_2)/D $$\n",
    "\n",
    "### Arduino code\n",
    "On the arduino code, we compute the coefficients as\n",
    "\n",
    "<pre>\n",
    "float alpha = omega0*dt;\n",
    "float alphaSq = alpha*alpha;\n",
    "float beta[] = {1, sqrt(2), 1};\n",
    "float D = alphaSq*beta[0] + 2*alpha*beta[1] + 4*beta[2];\n",
    "\n",
    "b[0] = alphaSq/D;\n",
    "b[1] = 2*b[0];\n",
    "b[2] = b[0];\n",
    "\n",
    "a[0] = -(2*alphaSq*beta[0] - 8*beta[2])/D;\n",
    "a[1] = -(beta[0]*alphaSq - 2*beta[1]*alpha + 4*beta[2])/D;        \n",
    "</pre>"
   ]
  },
  {
   "cell_type": "code",
   "execution_count": 10,
   "id": "27950ef3",
   "metadata": {},
   "outputs": [
    {
     "name": "stdout",
     "output_type": "stream",
     "text": [
      "[0.00024131978889242034, 0.0004826395777848407, 0.00024131978889242034]\n",
      "[1.9555818921741432, -0.956547171329713]\n"
     ]
    }
   ],
   "source": [
    "# Example coefficients for testing\n",
    "dt = 1/1.0e3;\n",
    "omega0 = 5*2*np.pi;\n",
    "alpha = omega0*dt;\n",
    "alphaSq = alpha*alpha;\n",
    "beta= [1,np.sqrt(2), 1];\n",
    "D = alphaSq*beta[0] + 2*alpha*beta[1] + 4*beta[2];\n",
    "\n",
    "b = [0,0,0]\n",
    "b[0] = alphaSq/D;\n",
    "b[1] = 2*b[0];\n",
    "b[2] = b[0];\n",
    "\n",
    "a = [0,0]\n",
    "a[0] = -(2*alphaSq*beta[0] - 8*beta[2])/D;\n",
    "a[1] = -(beta[0]*alphaSq - 2*beta[1]*alpha + 4*beta[2])/D;     \n",
    "\n",
    "print(b)\n",
    "print(a)"
   ]
  }
 ],
 "metadata": {
  "kernelspec": {
   "display_name": "Python 3",
   "language": "python",
   "name": "python3"
  },
  "language_info": {
   "codemirror_mode": {
    "name": "ipython",
    "version": 3
   },
   "file_extension": ".py",
   "mimetype": "text/x-python",
   "name": "python",
   "nbconvert_exporter": "python",
   "pygments_lexer": "ipython3",
   "version": "3.6.8"
  }
 },
 "nbformat": 4,
 "nbformat_minor": 5
}
